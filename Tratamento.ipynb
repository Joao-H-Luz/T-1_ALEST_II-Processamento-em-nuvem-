{
 "cells": [
  {
   "cell_type": "markdown",
   "id": "55b3dfe0",
   "metadata": {},
   "source": [
    "### Bibliotecas"
   ]
  },
  {
   "cell_type": "code",
   "execution_count": 52,
   "id": "96ac6cde",
   "metadata": {},
   "outputs": [],
   "source": [
    "import pandas as pd\n",
    "import matplotlib.pyplot as plt\n",
    "import seaborn as sns\n",
    "from time import time"
   ]
  },
  {
   "cell_type": "markdown",
   "id": "15d24325",
   "metadata": {},
   "source": [
    "## Abertura e Tratamento do Arquivo\n",
    "- Abri o arquivo .txt\n",
    "- Extrair a quantiade de processadores do Servidor\n",
    "- Tratar a entrada de dados"
   ]
  },
  {
   "cell_type": "code",
   "execution_count": null,
   "id": "fe3899c0",
   "metadata": {},
   "outputs": [],
   "source": [
    "# Nome do Arquivo atual\n",
    "arq = \"caso20000\"\n",
    "\n",
    "with open(f\"Entrada de Arquivos/{arq}.txt\") as arquivo:\n",
    "    caso = arquivo.readlines()\n",
    "\n",
    "cpu = int(str(caso[0])[7:])\n",
    "tasks = list(map(lambda x: x[:-1], caso[1:]))\n",
    "\n",
    "# --Visualização-- #\n",
    "print(f\"Numero de Processadores: {cpu}\")\n",
    "print(f\"Lista de Taske: {tasks}\")"
   ]
  },
  {
   "cell_type": "markdown",
   "id": "676e3d6a",
   "metadata": {},
   "source": [
    "- Tratar a saida de Task retirando as \"->\"\n",
    "- Transformar a saida em tuplas (pai, filho)"
   ]
  },
  {
   "cell_type": "code",
   "execution_count": null,
   "id": "81ef8d30",
   "metadata": {},
   "outputs": [],
   "source": [
    "def separeting(string:str):\n",
    "    word = string.split('->')\n",
    "    pai = word[0].strip()\n",
    "    filho = word[1].strip()\n",
    "    return pai, filho\n",
    "\n",
    "# --Visualização-- #\n",
    "print(list(map(separeting, tasks)))"
   ]
  },
  {
   "cell_type": "markdown",
   "id": "6f0e00ac",
   "metadata": {},
   "source": [
    "## Criar um algoritimo Modificado de Árvore de Busca\n",
    "\n",
    "- Criar a classe Node\n",
    "- Criar um algoritimo de Árvore convencional\n",
    "    - O algoritimo deve caminhar pela arvore utilizando o numero de CPU's disponiveis\n",
    "    - Definir duas políticas de caminhamento na árvore (\"MIN\")-(\"MAX\")\n",
    "    - Criar uma função de caminhamento para utilizar as duas políticas "
   ]
  },
  {
   "cell_type": "markdown",
   "id": "b0b34e3b",
   "metadata": {},
   "source": [
    "### Classe Node"
   ]
  },
  {
   "cell_type": "code",
   "execution_count": 76,
   "id": "14e5989d",
   "metadata": {},
   "outputs": [],
   "source": [
    "class Node():\n",
    "    def __init__(self, valor, tempo):\n",
    "        self.valor = valor\n",
    "        self.tempo_restante = tempo\n",
    "        self.tempo_restante_original = tempo\n",
    "        self.filhos = []\n",
    "        self.pai = None\n",
    "        self.free = False\n",
    "\n",
    "    def adicionar_filho(self, filho):\n",
    "        filho.pai = self\n",
    "        self.filhos.append(filho)\n",
    "        "
   ]
  },
  {
   "cell_type": "markdown",
   "id": "771800eb",
   "metadata": {},
   "source": [
    "### Class ProcessTree\n",
    "- Classe de Árvore de Busca adaptado"
   ]
  },
  {
   "cell_type": "code",
   "execution_count": null,
   "id": "863669dc",
   "metadata": {},
   "outputs": [],
   "source": [
    "class ProcessTree():\n",
    "    def __init__(self):\n",
    "        self.root = None\n",
    "        self.nodes = {}\n",
    "\n",
    "    def get_or_create(self, nome):\n",
    "        if nome not in self.nodes:\n",
    "            ident, tempo = nome.split(\"_\")\n",
    "            tempo = int(tempo)\n",
    "            self.nodes[nome] = Node(ident, tempo)\n",
    "        return self.nodes[nome]\n",
    "    \n",
    "    def add_relation(self, pai_nome, filho_nome):\n",
    "        pai = self.get_or_create(pai_nome)\n",
    "        filho = self.get_or_create(filho_nome)\n",
    "        pai.adicionar_filho(filho)\n",
    "\n",
    "    def find_root(self):\n",
    "        for node in self.nodes.values():\n",
    "            if node.pai is None:\n",
    "                self.root = node\n",
    "                node.free = True\n",
    "                return node\n",
    "        return None\n",
    "\n",
    "    def insert(self, valor, tempo):\n",
    "        new = Node(valor, tempo)\n",
    "        if self.root is None:\n",
    "            new.free = True\n",
    "            self.root = new\n",
    "            return\n",
    "        fila = [self.root]\n",
    "        while fila:\n",
    "            node = fila.pop(0)\n",
    "            if not node.filhos or valor < node.filhos[-1].valor:\n",
    "                node.adicionar_filho(new)\n",
    "                break\n",
    "            else:\n",
    "                fila.extend(node.filhos)\n",
    "\n",
    "    def reset(tree):\n",
    "        for node in tree.nodes.values():\n",
    "            node.tempo_restante = node.tempo_restante_original\n",
    "            node.free = False\n",
    "        tree.find_root()  # garante que a root fique free no início\n",
    "\n",
    "    def pre_execution(self, politica=\"MIN\"):\n",
    "        prontos = []\n",
    "        fila = [self.root]\n",
    "        while fila:\n",
    "            node = fila.pop(0)\n",
    "            if node.free and node.tempo_restante > 0:\n",
    "                prontos.append(node)\n",
    "            fila.extend(node.filhos)\n",
    "        \n",
    "        if politica == \"MIN\":\n",
    "            return sorted(prontos, key=lambda x: x.valor)\n",
    "        elif politica == \"MAX\":\n",
    "            return sorted(prontos, key=lambda x: x.valor, reverse=True)\n",
    "        else:\n",
    "            raise ValueError(\"Política deve ser 'MIN' ou 'MAX'\")\n",
    "\n",
    "    \n",
    "    def execution(self, cpu, politica=\"MIN\"):\n",
    "        total_time = 0\n",
    "        while True:\n",
    "            prontos = self.pre_execution(politica)\n",
    "            if not prontos:\n",
    "                break\n",
    "\n",
    "            ativos = prontos[:cpu]\n",
    "            menor_tempo = min(node.tempo_restante for node in ativos)\n",
    "            total_time += menor_tempo\n",
    "\n",
    "            for node in ativos:\n",
    "                node.tempo_restante -= menor_tempo\n",
    "                if node.tempo_restante == 0:\n",
    "                    for filho in node.filhos:\n",
    "                        filho.free = True\n",
    "\n",
    "        return total_time"
   ]
  },
  {
   "cell_type": "markdown",
   "id": "cc23d10c",
   "metadata": {},
   "source": [
    "## Prepara para Inserir na Árvore\n",
    "- Atribuir as Tasks (pai, filho) á Árvore\n",
    "- Setar a nova root"
   ]
  },
  {
   "cell_type": "code",
   "execution_count": null,
   "id": "fdbff820",
   "metadata": {},
   "outputs": [],
   "source": [
    "# Criar a ProcessTree e Setar a Politica de Caminhamento\n",
    "p_tree = ProcessTree()\n",
    "politica = [\"MIN\", \"MAX\"]\n",
    "result = {}\n",
    "\n",
    "# Adicionar os nodos a Árvore\n",
    "for pai, filho in map(separeting, tasks):\n",
    "    p_tree.add_relation(pai, filho)\n",
    "\n",
    "# Procura a Root\n",
    "p_tree.find_root()\n",
    "\n",
    "# Faz o Caminhamento de Acordo com a Política e retorna o tempo\n",
    "for pol in politica:\n",
    "    inicio = time()\n",
    "    p_tree.reset()\n",
    "    total_time = p_tree.execution(cpu=cpu, politica=pol)\n",
    "    fim = time()\n",
    "    result[pol] = total_time\n",
    "    result[f\"Tempo_{pol}\"] = fim-inicio\n",
    "\n",
    "# --Visualização-- #\n",
    "print(result)"
   ]
  },
  {
   "cell_type": "markdown",
   "id": "60b1af24",
   "metadata": {},
   "source": [
    "## Criar um Arquivo .txt contendo os logs de cada caso.\n",
    "\n",
    "- Abrir/Criar um arquivo .txt e armazenar os logs nele\n",
    "- O arquivo deve conter:\n",
    "    - Nome do Caso Estudado\n",
    "    - N° de Processadore\n",
    "    - Politica Utilizada\n",
    "    - Tempo Simulado\n",
    "    - Tempo Real de Execução"
   ]
  },
  {
   "cell_type": "code",
   "execution_count": null,
   "id": "81f66c35",
   "metadata": {},
   "outputs": [],
   "source": [
    "with open(\"Saida de Arquivos/log.txt\", \"a\") as log:\n",
    "    linha = (f\"Arquivo:{f'{arq}.txt'} | CPU:{cpu} | MIN:{result[\"MIN\"]} | MAX:{result[\"MAX\"]} | Temp_MIN:{result[\"Tempo_MIN\"]} | Temp_MAX:{result[\"Tempo_MAX\"]}\\n\")\n",
    "    log.write(linha)"
   ]
  },
  {
   "cell_type": "markdown",
   "id": "450c081c",
   "metadata": {},
   "source": [
    "## Gerar Relatórios sobre o Desempenho da ProcessTree\n",
    "\n",
    "    - Fazer um Relatório de tempo em Relação as Políticas \"MIN\" e \"MAX\"\n",
    "        - Criar um data frame a partir do \"log.txt\"\n",
    "        - Criar uma coluna \"Delta\" (Diferença de MIN e MAX)\n",
    "        - Gerar um Arquivo Tabelas_log.xlsx"
   ]
  },
  {
   "cell_type": "code",
   "execution_count": null,
   "id": "74016f8e",
   "metadata": {},
   "outputs": [],
   "source": [
    "# Abri o arquivo \"log.txt\" e transforma ele em um DataFrame\n",
    "log_df = pd.read_csv(\"Saida de Arquivos/log.txt\", sep='|', header=None, names=['Arquivo', 'CPU', 'MIN', 'MAX', 'Temp_MIN', 'Temp_MAX'])\n",
    "\n",
    "# Trata as entradas do .txt para ter uma planilha limpa\n",
    "log_df[\"Arquivo\"] = log_df[\"Arquivo\"].str.split(\":\").str[1].astype(str)\n",
    "log_df[\"MIN\"] = log_df[\"MIN\"].str.split(\":\").str[1].astype(int)\n",
    "log_df[\"MAX\"] = log_df[\"MAX\"].str.split(\":\").str[1].astype(int)\n",
    "log_df[\"CPU\"] = log_df[\"CPU\"].str.split(\":\").str[1].astype(int)\n",
    "log_df[\"Delta max|min\"] = (log_df[\"MIN\"] - log_df[\"MAX\"]).abs() # Cria a Coluna Delta com a diferença entra MAX e MIN\n",
    "log_df[\"Temp_MIN\"] = log_df[\"Temp_MIN\"].str.split(\":\").str[1].astype(float).abs()\n",
    "log_df[\"Temp_MAX\"] = log_df[\"Temp_MAX\"].str.split(\":\").str[1].astype(float).abs()\n",
    "\n",
    "# Cria um arquivo .xlsx a partir do DataFrame\n",
    "with pd.ExcelWriter(\"Saida de Arquivos/Tabelas_log.xlsx\") as writer:\n",
    "    log_df.to_excel(writer, sheet_name=\"Resultados\", index=False)\n",
    "\n",
    "# --Visualização-- #\n",
    "log_df"
   ]
  },
  {
   "cell_type": "markdown",
   "id": "e0db9574",
   "metadata": {},
   "source": [
    "## Construir Gráficos sobre o Desempenho da ProcessTree\n",
    "\n",
    "- Gerar Graficos para utilização no trabalho de Pesquisa\n",
    "    - Gráfico individual de cada Caso (Grafico de Barras)\n",
    "    - Grafico de linhas mostrando a diferença entre politicas\n",
    "    - Grafico de Todos os Testes (Grafico de Barras)"
   ]
  },
  {
   "cell_type": "markdown",
   "id": "515e1e25",
   "metadata": {},
   "source": [
    "### Gráfico Isolado\n",
    "        - Gera um Grafico Isolado de Colunas para melhor referencia de Otimização entre politicas\n",
    "        - Adiciona uma linha Tracejada para melhorar a visualização da Diferença "
   ]
  },
  {
   "cell_type": "code",
   "execution_count": null,
   "id": "63ec2b06",
   "metadata": {},
   "outputs": [],
   "source": [
    "for arq in log_df[\"Arquivo\"].unique():\n",
    "    df_caso = log_df[log_df[\"Arquivo\"] == arq]\n",
    "    \n",
    "    plt.figure(figsize=(6,4))\n",
    "    sns.barplot(data=df_caso.melt(id_vars=[\"Arquivo\"], value_vars=[\"MIN\",\"MAX\"]),\n",
    "                x=\"variable\", y=\"value\", palette=[\"#6baed6\", \"#fc9272\"])\n",
    "    \n",
    "    # Pega o valor da altura da barra MAX\n",
    "    max_val = df_caso[\"MAX\"].values[0]\n",
    "    \n",
    "    # Adiciona linha tracejada do topo da barra até o eixo Y\n",
    "    plt.hlines(y=max_val, xmin=-0.2, xmax=1.2, colors=\"gray\", linestyles=\"--\", linewidth=1)\n",
    "    \n",
    "    plt.title(f\"Tempos do caso: {arq}\")\n",
    "    plt.ylabel(\"Tempo total\")\n",
    "    plt.xlabel(\"\")\n",
    "    plt.savefig(f\"Saida de Arquivos/Graficos Isolados/caso_isolado_{arq}.png\", dpi=300, bbox_inches=\"tight\")\n",
    "    plt.close()"
   ]
  },
  {
   "cell_type": "markdown",
   "id": "2b75dda4",
   "metadata": {},
   "source": [
    "### Grafico Geral de Barras\n",
    "     - Gera um Grafico Geral de Colunas para melhor referencia de Otimização entre politicas"
   ]
  },
  {
   "cell_type": "code",
   "execution_count": null,
   "id": "4defdba1",
   "metadata": {},
   "outputs": [],
   "source": [
    "# Gráfico comparativo\n",
    "sns.set(style=\"whitegrid\")\n",
    "plt.figure(figsize=(10,6))\n",
    "sns.barplot(data=log_df.melt(id_vars=[\"Arquivo\"], value_vars=[\"MIN\",\"MAX\"]),\n",
    "            x=\"Arquivo\", y=\"value\", hue=\"variable\", palette=[\"#6baed6\", \"#fc9272\"])\n",
    "plt.ylabel(\"Tempo total\")\n",
    "plt.title('Comparação de \"Tempo Simulado\" entre Políticas')\n",
    "\n",
    "# salvar como png\n",
    "plt.savefig(f\"Saida de Arquivos/grafico{arq}.png\", dpi=300, bbox_inches=\"tight\")\n",
    "\n",
    "plt.show()"
   ]
  },
  {
   "cell_type": "markdown",
   "id": "3c5fdf24",
   "metadata": {},
   "source": [
    "### Gráfico Geral de Linha\n",
    "     - Gera um Grafico Geral de Linhas para melhor referencia de Otimização entre politicas"
   ]
  },
  {
   "cell_type": "code",
   "execution_count": null,
   "id": "ecbeb4bc",
   "metadata": {},
   "outputs": [],
   "source": [
    "plt.figure(figsize=(10,6))\n",
    "for var, cor in zip([\"MIN\",\"MAX\"], [\"#6baed6\", \"#fc9272\"]):\n",
    "    sns.lineplot(data=log_df.melt(id_vars=[\"Arquivo\"], value_vars=[var]), \n",
    "                 x=\"Arquivo\", y=\"value\", label=var, color=cor, marker=\"o\")\n",
    "plt.title(\"Visão Geral de Todos os Casos\")\n",
    "plt.ylabel(\"Tempo Total Simulado\")\n",
    "plt.xlabel(\"Arquivo\")\n",
    "plt.xticks(rotation=45)\n",
    "plt.legend()\n",
    "plt.savefig(\"Saida de Arquivos/grafico_geral_de_linhas.png\", dpi=300, bbox_inches=\"tight\")\n",
    "plt.show()"
   ]
  }
 ],
 "metadata": {
  "kernelspec": {
   "display_name": "Python(ALEST2)",
   "language": "python",
   "name": "base"
  },
  "language_info": {
   "codemirror_mode": {
    "name": "ipython",
    "version": 3
   },
   "file_extension": ".py",
   "mimetype": "text/x-python",
   "name": "python",
   "nbconvert_exporter": "python",
   "pygments_lexer": "ipython3",
   "version": "3.12.7"
  }
 },
 "nbformat": 4,
 "nbformat_minor": 5
}

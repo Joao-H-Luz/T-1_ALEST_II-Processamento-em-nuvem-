{
 "cells": [
  {
   "cell_type": "markdown",
   "id": "15d24325",
   "metadata": {},
   "source": [
    "## Abertura e Tratamento do Arquivo\n",
    "- Abri o arquivo .txt\n",
    "- Extrair a quantiade de processadores do Servidor\n",
    "- Tratar a entrada de dados"
   ]
  },
  {
   "cell_type": "code",
   "execution_count": 89,
   "id": "fe3899c0",
   "metadata": {},
   "outputs": [
    {
     "name": "stdout",
     "output_type": "stream",
     "text": [
      "Numero de Processadores: 12\n",
      "Lista de Taske: ['mqpd_22 -> vbkdb_311', 'mqpd_22 -> wvq_257', 'mqpd_22 -> njll_448', 'vbkdb_311 -> wfsp_65', 'vbkdb_311 -> xy_208', 'wvq_257 -> wwm_441', 'fnna_218 -> mqpd_22', 'fnna_218 -> jcolf_337', 'fnna_218 -> kduy_273', 'fnna_218 -> iqhlm_9', 'fnna_218 -> jr_122', 'jcolf_337 -> tbiha_504', 'njll_448 -> nrtf_30', 'njll_448 -> riao_303', 'kduy_273 -> ourjc_112', 'iqhlm_9 -> jx_478', 'iqhlm_9 -> ko_232', 'jr_122 -> nwm_460', 'wfsp_65 -> womam_53', 'tbiha_504 -> ttc_386', 'nrtf_30 -> opv_80', 'dkqwb_420 -> fnna_218', 'riao_303 -> wv_309', 'riao_303 -> wsc_205', 'ourjc_112 -> qxs_274', 'ourjc_112 -> qvtrh_489', 'clech_394 -> dkqwb_420', 'clech_394 -> hup_449', 'clech_394 -> kyao_184', 'clech_394 -> om_482', 'jx_478 -> onfv_345', 'jx_478 -> nmiua_347', 'bg_40 -> clech_394', 'ko_232 -> qalh_139', 'ko_232 -> of_315', 'nwm_460 -> ol_378', 'hup_449 -> ixr_500', 'hup_449 -> hx_169', 'opv_80 -> tpxd_218', 'afkqs_416 -> bg_40', 'kyao_184 -> lnc_225', 'wwm_441 -> xeoaa_296', 'qxs_274 -> wgdqa_49', 'om_482 -> pn_209', 'om_482 -> roauc_74', 'womam_53 -> xuswf_373', 'womam_53 -> xm_439', 'womam_53 -> xnc_34', 'womam_53 -> xaooa_268', 'ttc_386 -> twgkb_476', 'ttc_386 -> tw_316', 'ttc_386 -> ub_275', 'ttc_386 -> vjtat_244', 'ttc_386 -> wia_173', 'ttc_386 -> ww_123', 'onfv_345 -> spa_22', 'ei_434 -> ihw_480', 'camrn_16 -> ei_434', 'camrn_16 -> crokd_98', 'camrn_16 -> msy_169', 'camrn_16 -> jd_188', 'qvtrh_489 -> ru_181', 'qvtrh_489 -> ud_66', 'qvtrh_489 -> waky_62', 'nmiua_347 -> oisob_330', 'bi_408 -> camrn_16', 'bi_408 -> jtp_276', 'ixr_500 -> lwma_441', 'hx_169 -> mdxg_220', 'hx_169 -> la_72', 'hx_169 -> kjn_39', 'aafm_124 -> afkqs_416', 'aafm_124 -> bi_408', 'aafm_124 -> bxivq_321', 'aafm_124 -> dgwh_45', 'ihw_480 -> lqt_148', 'crokd_98 -> dc_201', 'crokd_98 -> frno_230', 'lnc_225 -> mpio_175', 'msy_169 -> nmsq_166', 'jd_188 -> kdmtb_502', 'jtp_276 -> kxja_298', 'jtp_276 -> lss_257', 'bxivq_321 -> ft_307', 'bxivq_321 -> hk_354', 'bxivq_321 -> jjdga_221', 'lwma_441 -> oe_156', 'dgwh_45 -> issrf_108', 'afv_478 -> cac_296', 'dc_201 -> jwwv_234', 'frno_230 -> ka_432', 'ft_307 -> hqu_149', 'la_72 -> lw_253', 'cac_296 -> dgw_114', 'bsbe_80 -> bwb_304', 'akxlm_324 -> bsbe_80', 'afkqs_416 -> afv_478', 'aafm_124 -> akxlm_324', 'aafm_124 -> ayjjg_142']\n"
     ]
    }
   ],
   "source": [
    "with open(\"Entrada de Arquivos/caso100.txt\") as arquivo:\n",
    "    caso = arquivo.readlines()\n",
    "\n",
    "cpu = int(str(caso[0])[7:])\n",
    "tasks = list(map(lambda x: x[:-1], caso[1:]))\n",
    "\n",
    "print(f\"Numero de Processadores: {cpu}\")\n",
    "print(f\"Lista de Taske: {tasks}\")"
   ]
  },
  {
   "cell_type": "markdown",
   "id": "6f0e00ac",
   "metadata": {},
   "source": [
    "## Criar um algoritimo Modificado de Arvore de Busca\n",
    "\n",
    "- Criar a classe Node\n",
    "- Criar um algoritimo de arvore convencional\n",
    "- O algoritimo deve caminha utilizando recursividade e numero de CPU\n",
    "- Definir duas politicas de caminhamento na arvore (maior número)-(menor número)\n",
    "- Criar uma função de caminhamento para utilizar as duas politicas \n",
    "- Deve ter um contador de \"Tempo\" e exibir o tempo final do percurso"
   ]
  },
  {
   "cell_type": "markdown",
   "id": "b0b34e3b",
   "metadata": {},
   "source": [
    "### Classe Node"
   ]
  },
  {
   "cell_type": "code",
   "execution_count": 90,
   "id": "14e5989d",
   "metadata": {},
   "outputs": [],
   "source": [
    "class Node():\n",
    "    def __init__(self, valor, tempo):\n",
    "        self.valor = valor\n",
    "        self.tempo_restante = tempo\n",
    "        self.filhos = []\n",
    "        self.pai = None\n",
    "        self.free = False\n",
    "\n",
    "    def adicionar_filho(self, filho):\n",
    "        filho.pai = self\n",
    "        self.filhos.append(filho)\n",
    "        "
   ]
  },
  {
   "cell_type": "markdown",
   "id": "771800eb",
   "metadata": {},
   "source": [
    "### Class ProcessTree\n",
    "- Classe de Arvore de Busca adaptado"
   ]
  },
  {
   "cell_type": "code",
   "execution_count": 91,
   "id": "863669dc",
   "metadata": {},
   "outputs": [],
   "source": [
    "class ProcessTree():\n",
    "    def __init__(self):\n",
    "        self.root = None\n",
    "        self.nodes = {}\n",
    "\n",
    "    def get_or_create(self, nome):\n",
    "        if nome not in self.nodes:\n",
    "            ident, tempo = nome.split(\"_\")\n",
    "            tempo = int(tempo)\n",
    "            self.nodes[nome] = Node(ident, tempo)\n",
    "        return self.nodes[nome]\n",
    "    \n",
    "    def add_relation(self, pai_nome, filho_nome):\n",
    "        pai = self.get_or_create(pai_nome)\n",
    "        filho = self.get_or_create(filho_nome)\n",
    "        pai.adicionar_filho(filho)\n",
    "\n",
    "    def find_root(self):\n",
    "        for node in self.nodes.values():\n",
    "            if node.pai is None:\n",
    "                self.root = node\n",
    "                node.free = True\n",
    "                return node\n",
    "        return None\n",
    "\n",
    "    def insert(self, valor, tempo):\n",
    "        new = Node(valor, tempo)\n",
    "        if self.root is None:\n",
    "            new.free = True\n",
    "            self.root = new\n",
    "            return\n",
    "        fila = [self.root]\n",
    "        while fila:\n",
    "            node = fila.pop(0)\n",
    "            if not node.filhos or valor < node.filhos[-1].valor:\n",
    "                node.adicionar_filho(new)\n",
    "                break\n",
    "            else:\n",
    "                fila.extend(node.filhos)\n",
    "\n",
    "    def pre_execution(self, politica=\"MIN\"):\n",
    "        prontos = []\n",
    "        fila = [self.root]\n",
    "        while fila:\n",
    "            node = fila.pop(0)\n",
    "            if node.free and node.tempo_restante > 0:\n",
    "                prontos.append(node)\n",
    "            fila.extend(node.filhos)\n",
    "        \n",
    "        if politica == \"MIN\":\n",
    "            return sorted(prontos, key=lambda x: x.valor)\n",
    "        elif politica == \"MAX\":\n",
    "            return sorted(prontos, key=lambda x: x.valor, reverse=True)\n",
    "        else:\n",
    "            raise ValueError(\"Política deve ser 'MIN' ou 'MAX'\")\n",
    "\n",
    "    \n",
    "    def execution(self, cpu, politica=\"MIN\"):\n",
    "        total_time = 0\n",
    "        while True:\n",
    "            prontos = self.pre_execution(politica)\n",
    "            if not prontos:\n",
    "                break\n",
    "\n",
    "            ativos = prontos[:cpu]\n",
    "            menor_tempo = min(node.tempo_restante for node in ativos)\n",
    "            total_time += menor_tempo\n",
    "\n",
    "            for node in ativos:\n",
    "                node.tempo_restante -= menor_tempo\n",
    "                if node.tempo_restante == 0:\n",
    "                    for filho in node.filhos:\n",
    "                        filho.free = True\n",
    "\n",
    "        return total_time"
   ]
  },
  {
   "cell_type": "markdown",
   "id": "cc23d10c",
   "metadata": {},
   "source": [
    "## Tratar a Lista de Tasks e prepara para inserir na Árvore\n",
    "- Tratar retirando as \"->\" e transformando pais e filhos\n",
    "- Setar a nova root"
   ]
  },
  {
   "cell_type": "code",
   "execution_count": 96,
   "id": "fdbff820",
   "metadata": {},
   "outputs": [
    {
     "name": "stdout",
     "output_type": "stream",
     "text": [
      "Tempo total de execução na politica MIN: 3315\n"
     ]
    }
   ],
   "source": [
    "p_tree = ProcessTree()\n",
    "pol = \"MIN\"\n",
    "\n",
    "for famili in tasks:\n",
    "    pai, filho = [p.strip() for p in famili.split(\"->\")]\n",
    "    p_tree.add_relation(pai, filho)\n",
    "\n",
    "p_tree.find_root()\n",
    "\n",
    "total_time = p_tree.execution(cpu=cpu, politica=pol)\n",
    "print(f\"Tempo total de execução na politica {pol}: {total_time}\")"
   ]
  }
 ],
 "metadata": {
  "kernelspec": {
   "display_name": "Python(ALEST2)",
   "language": "python",
   "name": "alestii"
  },
  "language_info": {
   "codemirror_mode": {
    "name": "ipython",
    "version": 3
   },
   "file_extension": ".py",
   "mimetype": "text/x-python",
   "name": "python",
   "nbconvert_exporter": "python",
   "pygments_lexer": "ipython3",
   "version": "3.12.7"
  }
 },
 "nbformat": 4,
 "nbformat_minor": 5
}
